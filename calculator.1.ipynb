{
 "cells": [
  {
   "cell_type": "code",
   "execution_count": 2,
   "id": "36ba7533",
   "metadata": {},
   "outputs": [
    {
     "name": "stdout",
     "output_type": "stream",
     "text": [
      "50\n",
      "20.0\n",
      "10\n"
     ]
    }
   ],
   "source": [
    "\n",
    "\n",
    "numbers = {\n",
    "  'ноль': 0, 'один': 1, 'два': 2, 'три': 3, 'четыре': 4, 'пять': 5, 'шесть': 6,\n",
    "  'семь': 7, 'восемь': 8, 'девять': 9, 'десять': 10, 'одиннадцать': 11, 'двенадцать': 12,\n",
    "  'тринадцать': 13, 'четырнадцать': 14, 'пятнадцать': 15, 'шестнадцать': 16, 'семнадцать': 17,\n",
    "  'восемнадцать': 18, 'девятнадцать': 19, 'двадцать': 20, 'тридцать': 30, 'сорок': 40,\n",
    "  'пятьдесят': 50, 'шестьдесят': 60, 'семьдесят': 70, 'восемьдесят': 80, 'девяносто': 90\n",
    "}\n",
    "\n",
    "operations = {\n",
    "  'плюс': lambda a, b: a + a,\n",
    "  'минус': lambda a, b: a - b,\n",
    "  'умножить': lambda a, b: a * b,\n",
    "  'разделить': lambda a, b: a / b,\n",
    "  'остаток от деления': lambda a, b: a % b\n",
    "}\n",
    "\n",
    "\n",
    "\n",
    "def calc(expression): \n",
    "\n",
    "  def parse_number(number_str): \n",
    "      res = 0\n",
    "      for str_num_name in number_str:\n",
    "          if str_num_name in numbers:\n",
    "              res += numbers[str_num_name]  \n",
    "      return res\n",
    "\n",
    "  def find_str_operation(parts_ecp): \n",
    "      for i, op in enumerate(parts_ecp):  \n",
    "          if op in operations:\n",
    "              return i, operations[op] \n",
    "\n",
    "\n",
    "\n",
    "  parts = expression.split()\n",
    "  if 'на' in parts:\n",
    "      parts.remove('на')\n",
    "  indx, oprt = find_str_operation(parts)\n",
    "  first_number = parse_number(parts[:indx])\n",
    "  second_number = parse_number(parts[indx:])\n",
    "\n",
    "  result = oprt(first_number, second_number)\n",
    "\n",
    "  return result\n",
    "\n",
    "\n",
    "print(calc(\"двадцать пять плюс тринадцать\"))\n",
    "print(calc(\"сорок разделить на два\"))\n",
    "print(calc(\"пять плюс два умножить на три минус одиннадцать\"))"
   ]
  },
  {
   "cell_type": "code",
   "execution_count": null,
   "id": "b69428d8",
   "metadata": {},
   "outputs": [],
   "source": []
  }
 ],
 "metadata": {
  "kernelspec": {
   "display_name": "Python 3 (ipykernel)",
   "language": "python",
   "name": "python3"
  },
  "language_info": {
   "codemirror_mode": {
    "name": "ipython",
    "version": 3
   },
   "file_extension": ".py",
   "mimetype": "text/x-python",
   "name": "python",
   "nbconvert_exporter": "python",
   "pygments_lexer": "ipython3",
   "version": "3.11.5"
  }
 },
 "nbformat": 4,
 "nbformat_minor": 5
}
